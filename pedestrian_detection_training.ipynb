{
 "cells": [
  {
   "cell_type": "code",
   "execution_count": null,
   "metadata": {},
   "outputs": [],
   "source": [
    "import tensorflow as tf\n",
    "import cv2\n",
    "import numpy as np\n",
    "from tensorflow.keras.layers import Dropout, Flatten, Dense, MaxPooling2D, Conv2D\n",
    "from tensorflow.keras.models import Model\n",
    "from tensorflow.keras.layers import Input, Activation\n",
    "from tensorflow.keras.optimizers import Adam\n",
    "from tensorflow.keras.callbacks import ModelCheckpoint, EarlyStopping\n",
    "from sklearn.model_selection import train_test_split\n",
    "import os\n"
   ]
  },
  {
   "cell_type": "code",
   "execution_count": null,
   "metadata": {},
   "outputs": [],
   "source": [
    "fldr = \"E:/pedestrian detector/train\""
   ]
  },
  {
   "cell_type": "code",
   "execution_count": null,
   "metadata": {},
   "outputs": [],
   "source": [
    "images = []\n",
    "labels = []\n",
    "\n",
    "for filename in os.listdir(fldr):\n",
    "    total = os.path.join(fldr, filename)\n",
    "    image = cv2.imread(total)\n",
    "    image = cv2.cvtColor(image, cv2.COLOR_BGR2RGB)\n",
    "    image = cv2.resize(image, (48, 48))\n",
    "    images.append(image)\n",
    "    label = 1 if \"pedestrian\" in filename else 0\n",
    "    labels.append(label)"
   ]
  },
  {
   "cell_type": "code",
   "execution_count": null,
   "metadata": {},
   "outputs": [],
   "source": [
    "images_f = np.array(images) / 255.0\n",
    "labels_f = np.array(labels)\n"
   ]
  },
  {
   "cell_type": "code",
   "execution_count": null,
   "metadata": {},
   "outputs": [],
   "source": [
    "np.save(fldr + 'images.npy', images_f)\n",
    "np.save(fldr + 'labels.npy', labels_f)\n"
   ]
  },
  {
   "cell_type": "code",
   "execution_count": null,
   "metadata": {},
   "outputs": [],
   "source": [
    "X_train, X_test, Y_train, Y_test = train_test_split(images_f, labels_f, test_size=0.25)\n"
   ]
  },
  {
   "cell_type": "code",
   "execution_count": null,
   "metadata": {},
   "outputs": [],
   "source": [
    "def Convolution(input_tensor, filters):\n",
    "    x = Conv2D(filters=filters, kernel_size=(3, 3), padding=\"same\", strides=(1, 1))(input_tensor)\n",
    "    x = Dropout(0.1)(x)\n",
    "    x = Activation('relu')(x)\n",
    "    return x"
   ]
  },
  {
   "cell_type": "code",
   "execution_count": null,
   "metadata": {},
   "outputs": [],
   "source": [
    "\n",
    "def pedestrian_detection_model(input_shape):\n",
    "    inputs = Input((input_shape))\n",
    "    conv_1 = Convolution(inputs, 32)\n",
    "    maxp_1 = MaxPooling2D(pool_size=(2, 2))(conv_1)\n",
    "    conv_2 = Convolution(maxp_1, 64)\n",
    "    maxp_2 = MaxPooling2D(pool_size=(2, 2))(conv_2)\n",
    "    conv_3 = Convolution(maxp_2, 128)\n",
    "    maxp_3 = MaxPooling2D(pool_size=(2, 2))(conv_3)\n",
    "    conv_4 = Convolution(maxp_3, 256)\n",
    "    maxp_4 = MaxPooling2D(pool_size=(2, 2))(conv_4)\n",
    "    flatten = Flatten()(maxp_4)\n",
    "    dense_1 = Dense(64, activation='relu')(flatten)\n",
    "    drop_1 = Dropout(0.2)(dense_1)\n",
    "    output = Dense(1, activation='sigmoid', name='pedestrian_out')(drop_1)\n",
    "\n",
    "    model = Model(inputs=[inputs], outputs=[output])\n",
    "    model.compile(loss=\"binary_crossentropy\", optimizer=Adam(), metrics=[\"accuracy\"])\n",
    "    return model"
   ]
  },
  {
   "cell_type": "code",
   "execution_count": null,
   "metadata": {},
   "outputs": [],
   "source": [
    "pedestrian_model = pedestrian_detection_model((48, 48, 3))\n",
    "pedestrian_model.summary()"
   ]
  },
  {
   "cell_type": "code",
   "execution_count": null,
   "metadata": {},
   "outputs": [],
   "source": [
    "pedestrian_filename = 'modelPedestrianDetection.h5'"
   ]
  },
  {
   "cell_type": "code",
   "execution_count": null,
   "metadata": {},
   "outputs": [],
   "source": [
    "checkpoint_pedestrian = ModelCheckpoint(pedestrian_filename, monitor='val_loss', verbose=1,\n",
    "                                         save_best_only=True, save_weights_only=False, mode='auto', save_freq='epoch')\n",
    "early_stop_pedestrian = EarlyStopping(patience=75, monitor='val_loss', restore_best_weights=True)\n",
    "callback_list_pedestrian = [checkpoint_pedestrian, early_stop_pedestrian]\n"
   ]
  },
  {
   "cell_type": "code",
   "execution_count": null,
   "metadata": {},
   "outputs": [],
   "source": [
    "history_pedestrian = pedestrian_model.fit(X_train, Y_train, batch_size=64, validation_data=(X_test, Y_test),\n",
    "                                          epochs=500, callbacks=callback_list_pedestrian)\n",
    "pedestrian_model.evaluate(X_test, Y_test)\n"
   ]
  }
 ],
 "metadata": {
  "kernelspec": {
   "display_name": "base",
   "language": "python",
   "name": "python3"
  },
  "language_info": {
   "codemirror_mode": {
    "name": "ipython",
    "version": 3
   },
   "file_extension": ".py",
   "mimetype": "text/x-python",
   "name": "python",
   "nbconvert_exporter": "python",
   "pygments_lexer": "ipython3",
   "version": "3.11.5"
  }
 },
 "nbformat": 4,
 "nbformat_minor": 2
}
